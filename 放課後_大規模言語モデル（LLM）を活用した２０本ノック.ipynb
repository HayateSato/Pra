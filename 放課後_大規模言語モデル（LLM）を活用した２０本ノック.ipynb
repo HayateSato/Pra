{
  "cells": [
    {
      "cell_type": "markdown",
      "metadata": {
        "id": "view-in-github",
        "colab_type": "text"
      },
      "source": [
        "<a href=\"https://colab.research.google.com/github/HayateSato/Practce_KikaiGakusyu/blob/main/%E6%94%BE%E8%AA%B2%E5%BE%8C_%E5%A4%A7%E8%A6%8F%E6%A8%A1%E8%A8%80%E8%AA%9E%E3%83%A2%E3%83%86%E3%82%99%E3%83%AB%EF%BC%88LLM%EF%BC%89%E3%82%92%E6%B4%BB%E7%94%A8%E3%81%97%E3%81%9F%EF%BC%92%EF%BC%90%E6%9C%AC%E3%83%8E%E3%83%83%E3%82%AF.ipynb\" target=\"_parent\"><img src=\"https://colab.research.google.com/assets/colab-badge.svg\" alt=\"Open In Colab\"/></a>"
      ]
    },
    {
      "cell_type": "code",
      "execution_count": 1,
      "metadata": {
        "id": "ZOAJEKPMuVHx",
        "colab": {
          "base_uri": "https://localhost:8080/"
        },
        "outputId": "a5b9740e-9c07-442f-f8f6-3bf0019fd37c"
      },
      "outputs": [
        {
          "output_type": "stream",
          "name": "stdout",
          "text": [
            "Mounted at /content/drive\n"
          ]
        }
      ],
      "source": [
        "# 下記セルを実行すると、Googleドライブへの接続を求められます。\n",
        "# Googleアカウントにログインして進めてください。\n",
        "import os\n",
        "from google.colab import drive\n",
        "drive.mount('/content/drive')"
      ]
    },
    {
      "cell_type": "code",
      "execution_count": 2,
      "metadata": {
        "id": "b33V9H06uVHx"
      },
      "outputs": [],
      "source": [
        "working_dir = 'MLSys_100Knocks' #　※※自分で作成したフォルダパスが異なる場合こちらを変更してください。※※\n",
        "path = f'/content/drive/MyDrive/{working_dir}/本章/放課後'\n",
        "os.chdir(path)"
      ]
    },
    {
      "cell_type": "markdown",
      "metadata": {
        "id": "ZxGYvE2wuVHx"
      },
      "source": [
        "# 放課後_大規模言語モデル（LLM）を活用した２０本ノック\n",
        "\n"
      ]
    },
    {
      "cell_type": "markdown",
      "source": [
        "### 放課後ノック102： APIを用いてLLMを使ってみよう"
      ],
      "metadata": {
        "id": "rMdc1QPAZCg7"
      }
    },
    {
      "cell_type": "code",
      "source": [],
      "metadata": {
        "id": "Mqt8mKlfuqhm"
      },
      "execution_count": null,
      "outputs": []
    },
    {
      "cell_type": "code",
      "source": [],
      "metadata": {
        "id": "OrOhJGlKuqpr"
      },
      "execution_count": null,
      "outputs": []
    },
    {
      "cell_type": "code",
      "source": [],
      "metadata": {
        "id": "71RofqgBuqsm"
      },
      "execution_count": null,
      "outputs": []
    },
    {
      "cell_type": "code",
      "source": [],
      "metadata": {
        "id": "DNYlA8Hruqyk"
      },
      "execution_count": null,
      "outputs": []
    },
    {
      "cell_type": "markdown",
      "source": [
        "### 放課後ノック103： モデルやランダム性を変えて比べてみよう"
      ],
      "metadata": {
        "id": "ic4tQLmeZEJO"
      }
    },
    {
      "cell_type": "code",
      "source": [],
      "metadata": {
        "id": "K-k4jhPXWpwb"
      },
      "execution_count": null,
      "outputs": []
    },
    {
      "cell_type": "code",
      "source": [],
      "metadata": {
        "id": "BJwLMub81FI_"
      },
      "execution_count": null,
      "outputs": []
    },
    {
      "cell_type": "markdown",
      "source": [
        "### 放課後ノック104： 長文での指示を工夫してみよう"
      ],
      "metadata": {
        "id": "dme6JxRHZHPI"
      }
    },
    {
      "cell_type": "code",
      "source": [],
      "metadata": {
        "id": "10FCH0ayY1pT"
      },
      "execution_count": null,
      "outputs": []
    },
    {
      "cell_type": "code",
      "source": [],
      "metadata": {
        "id": "8VbiD4i6WpzA"
      },
      "execution_count": null,
      "outputs": []
    },
    {
      "cell_type": "markdown",
      "source": [
        "### 放課後ノック105： 質問の履歴を確認してみよう"
      ],
      "metadata": {
        "id": "v_eVhnCSZPlK"
      }
    },
    {
      "cell_type": "code",
      "source": [],
      "metadata": {
        "id": "ROGagtzzZPBE"
      },
      "execution_count": null,
      "outputs": []
    },
    {
      "cell_type": "code",
      "source": [],
      "metadata": {
        "id": "H9nKHW4HZPDq"
      },
      "execution_count": null,
      "outputs": []
    },
    {
      "cell_type": "code",
      "source": [],
      "metadata": {
        "id": "EGA1jo5vZPGO"
      },
      "execution_count": null,
      "outputs": []
    },
    {
      "cell_type": "markdown",
      "source": [
        "### 放課後ノック106： Langchainを使ってみよう"
      ],
      "metadata": {
        "id": "g2n-azRccqjv"
      }
    },
    {
      "cell_type": "code",
      "source": [],
      "metadata": {
        "id": "AHxC-_Chcxb-"
      },
      "execution_count": null,
      "outputs": []
    },
    {
      "cell_type": "code",
      "source": [],
      "metadata": {
        "id": "PxHGZLuTZPK6"
      },
      "execution_count": null,
      "outputs": []
    },
    {
      "cell_type": "code",
      "source": [],
      "metadata": {
        "id": "qK2tJ-lceQon"
      },
      "execution_count": null,
      "outputs": []
    },
    {
      "cell_type": "markdown",
      "source": [
        "### 放課後ノック107： 日本語を外国語に翻訳してみよう"
      ],
      "metadata": {
        "id": "lo7k6G2H1Yej"
      }
    },
    {
      "cell_type": "code",
      "source": [],
      "metadata": {
        "id": "6qZXcItFeQrz"
      },
      "execution_count": null,
      "outputs": []
    },
    {
      "cell_type": "code",
      "source": [],
      "metadata": {
        "id": "2GBpU4oH40ly"
      },
      "execution_count": null,
      "outputs": []
    },
    {
      "cell_type": "code",
      "source": [],
      "metadata": {
        "id": "6dnDZaZu1bUT"
      },
      "execution_count": null,
      "outputs": []
    },
    {
      "cell_type": "code",
      "source": [],
      "metadata": {
        "id": "Qoz0eF-o47Ab"
      },
      "execution_count": null,
      "outputs": []
    },
    {
      "cell_type": "markdown",
      "source": [
        "### 放課後ノック108： 応答内容をjsonや辞書型で出力してみよう"
      ],
      "metadata": {
        "id": "J6oXhVq_1cB7"
      }
    },
    {
      "cell_type": "code",
      "source": [],
      "metadata": {
        "id": "rwI_wi4c1bXG"
      },
      "execution_count": null,
      "outputs": []
    },
    {
      "cell_type": "code",
      "source": [],
      "metadata": {
        "id": "PZQ5ef7d1evH"
      },
      "execution_count": null,
      "outputs": []
    },
    {
      "cell_type": "code",
      "source": [],
      "metadata": {
        "id": "s6Gsg44Y_6VQ"
      },
      "execution_count": null,
      "outputs": []
    },
    {
      "cell_type": "code",
      "source": [],
      "metadata": {
        "id": "W8XtTAnP_8ZR"
      },
      "execution_count": null,
      "outputs": []
    },
    {
      "cell_type": "markdown",
      "source": [
        "### 放課後ノック109： 応答内容をリストで取得してみよう"
      ],
      "metadata": {
        "id": "B6pGgTtY1ilV"
      }
    },
    {
      "cell_type": "code",
      "source": [],
      "metadata": {
        "id": "2a2n3s2IA5M0"
      },
      "execution_count": null,
      "outputs": []
    },
    {
      "cell_type": "code",
      "source": [],
      "metadata": {
        "id": "BVgCoKwY1eyZ"
      },
      "execution_count": null,
      "outputs": []
    },
    {
      "cell_type": "code",
      "source": [],
      "metadata": {
        "id": "-6wIpUdL1lG-"
      },
      "execution_count": null,
      "outputs": []
    },
    {
      "cell_type": "markdown",
      "source": [
        "### 放課後ノック110： 翻訳システムを意識してみよう"
      ],
      "metadata": {
        "id": "3pVGlgUV11Qz"
      }
    },
    {
      "cell_type": "code",
      "source": [],
      "metadata": {
        "id": "R8lNTmXd1lLv"
      },
      "execution_count": null,
      "outputs": []
    },
    {
      "cell_type": "code",
      "source": [],
      "metadata": {
        "id": "nbkRSJ9ILSTJ"
      },
      "execution_count": null,
      "outputs": []
    },
    {
      "cell_type": "code",
      "source": [],
      "metadata": {
        "id": "oQlBGOtk1bfq"
      },
      "execution_count": null,
      "outputs": []
    },
    {
      "cell_type": "markdown",
      "source": [
        "### 放課後ノック111： エージェントを使ってみよう"
      ],
      "metadata": {
        "id": "N7FJi-tc14n0"
      }
    },
    {
      "cell_type": "code",
      "source": [],
      "metadata": {
        "id": "MgLxtOKW16tX"
      },
      "execution_count": null,
      "outputs": []
    },
    {
      "cell_type": "code",
      "source": [],
      "metadata": {
        "id": "yasNN6YX16wG"
      },
      "execution_count": null,
      "outputs": []
    },
    {
      "cell_type": "code",
      "source": [],
      "metadata": {
        "id": "ju-fDKWI16ya"
      },
      "execution_count": null,
      "outputs": []
    },
    {
      "cell_type": "markdown",
      "source": [
        "### 放課後ノック112： 2つのツールを使ってエージェントを高度化しよう"
      ],
      "metadata": {
        "id": "Oxs_Hgxiaukc"
      }
    },
    {
      "cell_type": "code",
      "source": [],
      "metadata": {
        "id": "ybQ5QoYk1604"
      },
      "execution_count": null,
      "outputs": []
    },
    {
      "cell_type": "code",
      "source": [],
      "metadata": {
        "id": "UtzFCzOF163d"
      },
      "execution_count": null,
      "outputs": []
    },
    {
      "cell_type": "markdown",
      "source": [
        "### 放課後ノック113： LLMを用いた簡易的なデータ分析をやってみよう"
      ],
      "metadata": {
        "id": "WbXp_F9Na6JI"
      }
    },
    {
      "cell_type": "code",
      "source": [],
      "metadata": {
        "id": "RG4CPb1X166t"
      },
      "execution_count": null,
      "outputs": []
    },
    {
      "cell_type": "code",
      "source": [],
      "metadata": {
        "id": "WtwKLRKK169O"
      },
      "execution_count": null,
      "outputs": []
    },
    {
      "cell_type": "markdown",
      "source": [
        "### 放課後ノック114： PandasのDataFrameを扱えるエージェントを使ってみよう"
      ],
      "metadata": {
        "id": "lhOQ0oiB05XY"
      }
    },
    {
      "cell_type": "code",
      "source": [],
      "metadata": {
        "id": "6DnY6Mpk16_2"
      },
      "execution_count": null,
      "outputs": []
    },
    {
      "cell_type": "code",
      "source": [],
      "metadata": {
        "id": "RwCk4k0217Cc"
      },
      "execution_count": null,
      "outputs": []
    },
    {
      "cell_type": "code",
      "source": [],
      "metadata": {
        "id": "-VFs5l1L17E_"
      },
      "execution_count": null,
      "outputs": []
    },
    {
      "cell_type": "markdown",
      "source": [
        "### 放課後ノック115： エージェントでデータの概要を把握しよう"
      ],
      "metadata": {
        "id": "XDgsLUmK0_zX"
      }
    },
    {
      "cell_type": "code",
      "source": [],
      "metadata": {
        "id": "Nxc5ikH21Baq"
      },
      "execution_count": null,
      "outputs": []
    },
    {
      "cell_type": "code",
      "source": [],
      "metadata": {
        "id": "_fdkVFHp1B9s"
      },
      "execution_count": null,
      "outputs": []
    },
    {
      "cell_type": "markdown",
      "source": [
        "### 放課後ノック116： エージェントと一緒に基本的な数字やグラフを押さえよう"
      ],
      "metadata": {
        "id": "smfXvHOn1k-M"
      }
    },
    {
      "cell_type": "code",
      "source": [],
      "metadata": {
        "id": "pNvZrEWr1CAg"
      },
      "execution_count": null,
      "outputs": []
    },
    {
      "cell_type": "code",
      "source": [],
      "metadata": {
        "id": "DzyyoKPY1CEE"
      },
      "execution_count": null,
      "outputs": []
    },
    {
      "cell_type": "markdown",
      "source": [
        "### 放課後ノック117： エージェントと一緒に分析してみよう"
      ],
      "metadata": {
        "id": "VCPRNJUD1s8o"
      }
    },
    {
      "cell_type": "code",
      "source": [],
      "metadata": {
        "id": "ZfqPlA4u1COt"
      },
      "execution_count": null,
      "outputs": []
    },
    {
      "cell_type": "code",
      "source": [],
      "metadata": {
        "id": "8cmudnDr1CR1"
      },
      "execution_count": null,
      "outputs": []
    },
    {
      "cell_type": "code",
      "source": [],
      "metadata": {
        "id": "WtzIQRZp11iF"
      },
      "execution_count": null,
      "outputs": []
    },
    {
      "cell_type": "code",
      "source": [],
      "metadata": {
        "id": "42Ci2u-K11k8"
      },
      "execution_count": null,
      "outputs": []
    },
    {
      "cell_type": "markdown",
      "source": [
        "### 放課後ノック118： エージェントに分析結果を聞いてみよう"
      ],
      "metadata": {
        "id": "SdxqKrtA16Ou"
      }
    },
    {
      "cell_type": "code",
      "source": [],
      "metadata": {
        "id": "B-xZYRd011nk"
      },
      "execution_count": null,
      "outputs": []
    },
    {
      "cell_type": "code",
      "source": [],
      "metadata": {
        "id": "xdYnZtRb11qJ"
      },
      "execution_count": null,
      "outputs": []
    },
    {
      "cell_type": "markdown",
      "source": [
        "### 放課後ノック119： GPT-4によるデータ分析を体験しよう"
      ],
      "metadata": {
        "id": "IRkokhPC2CIY"
      }
    },
    {
      "cell_type": "code",
      "source": [],
      "metadata": {
        "id": "BMug8x3E11tA"
      },
      "execution_count": null,
      "outputs": []
    },
    {
      "cell_type": "code",
      "source": [],
      "metadata": {
        "id": "-uKF0j5G11xw"
      },
      "execution_count": null,
      "outputs": []
    },
    {
      "cell_type": "markdown",
      "source": [
        "### 放課後ノック120： GPT-4によるデータ可視化を体験しよう"
      ],
      "metadata": {
        "id": "DkfAdBLe2We6"
      }
    },
    {
      "cell_type": "code",
      "source": [],
      "metadata": {
        "id": "tsZIG7JD110n"
      },
      "execution_count": null,
      "outputs": []
    },
    {
      "cell_type": "code",
      "source": [],
      "metadata": {
        "id": "tBX57wCz2cV8"
      },
      "execution_count": null,
      "outputs": []
    },
    {
      "cell_type": "code",
      "source": [],
      "metadata": {
        "id": "oiTePFST2cea"
      },
      "execution_count": null,
      "outputs": []
    }
  ],
  "metadata": {
    "kernelspec": {
      "display_name": "Python 3",
      "language": "python",
      "name": "python3"
    },
    "language_info": {
      "codemirror_mode": {
        "name": "ipython",
        "version": 3
      },
      "file_extension": ".py",
      "mimetype": "text/x-python",
      "name": "python",
      "nbconvert_exporter": "python",
      "pygments_lexer": "ipython3",
      "version": "3.6.9"
    },
    "colab": {
      "provenance": [],
      "include_colab_link": true
    }
  },
  "nbformat": 4,
  "nbformat_minor": 0
}